{
 "cells": [
  {
   "cell_type": "markdown",
   "metadata": {
    "collapsed": true,
    "pycharm": {
     "name": "#%% md\n"
    }
   },
   "source": [
    "Algorithm explanation:\n",
    "\n",
    "\n",
    "    Functions:\n",
    "\n",
    "        1.random_start() = set initial state\n",
    "        2.acceptance_probability() = we use this in function when need to calculate metropolis acceptance criterion\n",
    "        3.temperature(fraction) = temperature decreasing as the process goes on\n",
    "        4.costFunction(state) = return total number of stuck that need to satisfy requests\n",
    "        5.neighbour(state, currTemp) = swap member of states\n",
    "        6.simulated_annealing(n_iterations, temp) = implement algorithm"
   ]
  },
  {
   "cell_type": "code",
   "execution_count": 1,
   "outputs": [],
   "source": [
    "from numpy.random import randn\n",
    "import numpy as np\n",
    "\n",
    "\n",
    "def random_start():\n",
    "    \"\"\" Random point in the interval.\"\"\"\n",
    "    return np.random.permutation(reqLen)\n",
    "\n",
    "\n",
    "def acceptance_probability(cost, new_cost, temperature):\n",
    "    if new_cost < cost:\n",
    "        return 1\n",
    "    else:\n",
    "        p = np.exp(- (new_cost - cost) / temperature)\n",
    "        return p\n",
    "\n",
    "\n",
    "def temperature(fraction):\n",
    "    \"\"\" Example of temperature decreasing as the process goes on.\"\"\"\n",
    "    return max(0.001, min(1, 1 - fraction))\n",
    "\n",
    "\n",
    "# objective function\n",
    "def costFunction(state):\n",
    "    rolls = waste = 0\n",
    "    solution = 1\n",
    "    for i in range(reqLen):\n",
    "        if StockLength < Requests[state[i]] + rolls:\n",
    "            waste += StockLength - rolls\n",
    "            rolls = 0\n",
    "            solution += 1\n",
    "        rolls += Requests[state[i]]\n",
    "    return solution\n"
   ],
   "metadata": {
    "collapsed": false,
    "pycharm": {
     "name": "#%%\n"
    }
   }
  },
  {
   "cell_type": "code",
   "execution_count": 2,
   "outputs": [],
   "source": [
    "def neighbour(state, currTemp):\n",
    "    Wastes = []\n",
    "    rollSum = 0\n",
    "    for roll in range(reqLen):\n",
    "        if rollSum + Requests[state[roll]] > StockLength:\n",
    "            Wastes.append((roll, StockLength - rollSum))\n",
    "            rollSum = 0\n",
    "        rollSum += Requests[state[roll]]\n",
    "    sortedWastes = sorted(Wastes, key=lambda x: x[-1], reverse=True)\n",
    "    stop = min(len(sortedWastes) - 2, int(currTemp / 10))\n",
    "    for i in range(stop):\n",
    "        chosen1 = sortedWastes[i][0]\n",
    "        chosen2 = sortedWastes[i + 2][0]\n",
    "        state[chosen1], state[chosen2] = state[chosen2], state[chosen1]\n",
    "    return state"
   ],
   "metadata": {
    "collapsed": false,
    "pycharm": {
     "name": "#%%\n"
    }
   }
  },
  {
   "cell_type": "markdown",
   "source": [
    "Explanation of neighbour:\n",
    "\n",
    "        1. we appand roll number and its waste to a list\n",
    "        2. sort the list in order of wastes\n",
    "        3. choose swapping elements among of this list"
   ],
   "metadata": {
    "collapsed": false,
    "pycharm": {
     "name": "#%% md\n"
    }
   }
  },
  {
   "cell_type": "code",
   "execution_count": 3,
   "outputs": [],
   "source": [
    "# simulated annealing algorithm\n",
    "def simulated_annealing(n_iterations, temp):\n",
    "    # generate an initial point\n",
    "    best = random_start()\n",
    "    # evaluate the initial point\n",
    "    best_eval = costFunction(best)\n",
    "    # current working solution\n",
    "    curr, curr_eval = best, best_eval\n",
    "    scores = list()\n",
    "    # run the algorithm\n",
    "    for i in range(n_iterations):\n",
    "        # take a step\n",
    "        candidate = neighbour(best, temp)\n",
    "        # evaluate candidate point\n",
    "        candidate_eval = costFunction(candidate)\n",
    "        # check for new best solution\n",
    "        if candidate_eval < best_eval:\n",
    "            # store new best point\n",
    "            curr, curr_eval = candidate, candidate_eval\n",
    "            best, best_eval = candidate, candidate_eval\n",
    "            # report progress\n",
    "            print('>%d f(%d) = %d' % (i, i, best_eval))\n",
    "        # check if we should keep the new point\n",
    "        else:\n",
    "            # calculate temperature for current epoch\n",
    "            fraction = temp / float(i + 1)\n",
    "            t = temperature(fraction)\n",
    "            # calculate metropolis acceptance criterion\n",
    "            metropolis = acceptance_probability(candidate_eval, curr_eval, t)\n",
    "            # store the new current point\n",
    "            if np.random.rand() < metropolis:\n",
    "                curr, curr_eval = candidate, candidate_eval\n",
    "    return [best, best_eval, scores]"
   ],
   "metadata": {
    "collapsed": false,
    "pycharm": {
     "name": "#%%\n"
    }
   }
  },
  {
   "cell_type": "markdown",
   "source": [
    "Explanation of simulated_annealing:\n",
    "\n",
    "        1. generate an initial point and evaluate it\n",
    "        2. set current working solution\n",
    "        3. evaluate candidate point and check for new best solution\n",
    "        4. calculate temperature for current epoch\n",
    "        5. calculate metropolis acceptance criterion\n",
    "        6. store the new current point"
   ],
   "metadata": {
    "collapsed": false
   }
  },
  {
   "cell_type": "markdown",
   "source": [
    "read input and set variables\n"
   ],
   "metadata": {
    "collapsed": false,
    "pycharm": {
     "name": "#%% md\n"
    }
   }
  },
  {
   "cell_type": "markdown",
   "source": [
    "    testcase #1"
   ],
   "metadata": {
    "collapsed": false
   }
  },
  {
   "cell_type": "code",
   "execution_count": 4,
   "outputs": [],
   "source": [
    "info = []\n",
    "with open(\"input1.stock\", \"r\") as filestream:\n",
    "    for line in filestream:\n",
    "        line = line.strip()\n",
    "        line = line.replace(\" \", \"\")\n",
    "        info.append(line.split(\",\"))\n",
    "\n",
    "StockLength = int(info[0][0])\n",
    "Goal = int(info[2][0])\n",
    "Requests = []\n",
    "\n",
    "for roll in info[1]:\n",
    "    Requests.append(int(roll))\n",
    "\n",
    "reqLen = len(Requests)"
   ],
   "metadata": {
    "collapsed": false,
    "pycharm": {
     "name": "#%%\n"
    }
   }
  },
  {
   "cell_type": "markdown",
   "source": [
    "run algorithm until we get our desired answer\n"
   ],
   "metadata": {
    "collapsed": false,
    "pycharm": {
     "name": "#%% md\n"
    }
   }
  },
  {
   "cell_type": "code",
   "execution_count": 5,
   "outputs": [
    {
     "name": "stdout",
     "output_type": "stream",
     "text": [
      ">4 f(4) = 61\n",
      ">8 f(8) = 59\n",
      ">13 f(13) = 57\n",
      ">76 f(76) = 56\n",
      ">169 f(169) = 55\n",
      "f(best) = 55\n",
      "desired answer!\n"
     ]
    }
   ],
   "source": [
    "while True:\n",
    "    best = np.random.permutation(reqLen)\n",
    "    best_eval = costFunction(best)\n",
    "    current, current_eval = best, best_eval\n",
    "    best, score, scores = simulated_annealing(n_iterations=1000, temp=200)\n",
    "    if score < Goal:\n",
    "        print('f(best) = %d' % score)\n",
    "        print(\"desired answer!\")\n",
    "        break\n",
    "    else:\n",
    "        print('f(best) = %d' % score)\n",
    "        print(\"not desired answer!\")\n"
   ],
   "metadata": {
    "collapsed": false,
    "pycharm": {
     "name": "#%%\n"
    }
   }
  },
  {
   "cell_type": "markdown",
   "source": [
    "    testcase #2"
   ],
   "metadata": {
    "collapsed": false
   }
  },
  {
   "cell_type": "code",
   "execution_count": 6,
   "outputs": [],
   "source": [
    "info = []\n",
    "with open(\"input2.stock\", \"r\") as filestream:\n",
    "    for line in filestream:\n",
    "        line = line.strip()\n",
    "        line = line.replace(\" \", \"\")\n",
    "        info.append(line.split(\",\"))\n",
    "\n",
    "StockLength = int(info[0][0])\n",
    "Goal = int(info[2][0])\n",
    "Requests = []\n",
    "\n",
    "for roll in info[1]:\n",
    "    Requests.append(int(roll))\n",
    "\n",
    "reqLen = len(Requests)"
   ],
   "metadata": {
    "collapsed": false,
    "pycharm": {
     "name": "#%%\n"
    }
   }
  },
  {
   "cell_type": "markdown",
   "source": [
    "run algorithm until we get our desired answer\n"
   ],
   "metadata": {
    "collapsed": false
   }
  },
  {
   "cell_type": "code",
   "execution_count": 7,
   "outputs": [
    {
     "name": "stdout",
     "output_type": "stream",
     "text": [
      ">3 f(3) = 88\n",
      ">6 f(6) = 86\n",
      ">20 f(20) = 84\n",
      ">148 f(148) = 83\n",
      ">412 f(412) = 82\n",
      "f(best) = 82\n",
      "not desired answer!\n",
      ">0 f(0) = 88\n",
      ">6 f(6) = 86\n",
      ">30 f(30) = 83\n",
      ">230 f(230) = 82\n",
      "f(best) = 82\n",
      "not desired answer!\n",
      ">1 f(1) = 88\n",
      ">4 f(4) = 87\n",
      ">11 f(11) = 85\n",
      ">43 f(43) = 84\n",
      ">170 f(170) = 83\n",
      ">2664 f(2664) = 82\n",
      "f(best) = 82\n",
      "not desired answer!\n",
      ">1 f(1) = 90\n",
      ">5 f(5) = 89\n",
      ">9 f(9) = 87\n",
      ">17 f(17) = 86\n",
      ">35 f(35) = 85\n",
      ">41 f(41) = 84\n",
      ">83 f(83) = 83\n",
      "f(best) = 83\n",
      "not desired answer!\n",
      ">1 f(1) = 89\n",
      ">2 f(2) = 87\n",
      ">14 f(14) = 86\n",
      ">44 f(44) = 85\n",
      ">63 f(63) = 84\n",
      ">1372 f(1372) = 83\n",
      "f(best) = 83\n",
      "not desired answer!\n",
      ">1 f(1) = 88\n",
      ">6 f(6) = 87\n",
      ">9 f(9) = 86\n",
      ">34 f(34) = 85\n",
      ">46 f(46) = 84\n",
      ">210 f(210) = 83\n",
      ">2100 f(2100) = 82\n",
      "f(best) = 82\n",
      "not desired answer!\n",
      ">0 f(0) = 88\n",
      ">8 f(8) = 87\n",
      ">13 f(13) = 86\n",
      ">31 f(31) = 85\n",
      ">42 f(42) = 84\n",
      ">830 f(830) = 83\n",
      ">2114 f(2114) = 82\n",
      "f(best) = 82\n",
      "not desired answer!\n",
      ">9 f(9) = 87\n",
      ">16 f(16) = 86\n",
      ">30 f(30) = 85\n",
      ">58 f(58) = 84\n",
      ">123 f(123) = 83\n",
      ">347 f(347) = 82\n",
      "f(best) = 82\n",
      "not desired answer!\n",
      ">0 f(0) = 89\n",
      ">3 f(3) = 88\n",
      ">5 f(5) = 86\n",
      ">21 f(21) = 85\n",
      ">22 f(22) = 84\n",
      ">36 f(36) = 83\n",
      "f(best) = 83\n",
      "not desired answer!\n",
      ">3 f(3) = 86\n",
      ">25 f(25) = 85\n",
      ">36 f(36) = 84\n",
      ">62 f(62) = 83\n",
      ">448 f(448) = 82\n",
      "f(best) = 82\n",
      "not desired answer!\n",
      ">23 f(23) = 87\n",
      ">26 f(26) = 86\n",
      ">63 f(63) = 85\n",
      ">66 f(66) = 84\n",
      ">773 f(773) = 83\n",
      "f(best) = 83\n",
      "not desired answer!\n",
      ">1 f(1) = 88\n",
      ">3 f(3) = 86\n",
      ">20 f(20) = 85\n",
      ">26 f(26) = 84\n",
      ">95 f(95) = 83\n",
      "f(best) = 83\n",
      "not desired answer!\n",
      ">4 f(4) = 85\n",
      ">12 f(12) = 84\n",
      ">1252 f(1252) = 83\n",
      ">1421 f(1421) = 82\n",
      "f(best) = 82\n",
      "not desired answer!\n",
      ">15 f(15) = 87\n",
      ">18 f(18) = 86\n",
      ">31 f(31) = 85\n",
      ">46 f(46) = 84\n",
      ">103 f(103) = 83\n",
      ">1352 f(1352) = 82\n",
      "f(best) = 82\n",
      "not desired answer!\n",
      ">1 f(1) = 89\n",
      ">3 f(3) = 88\n",
      ">5 f(5) = 87\n",
      ">47 f(47) = 86\n",
      ">48 f(48) = 85\n",
      ">152 f(152) = 84\n",
      ">296 f(296) = 83\n",
      "f(best) = 83\n",
      "not desired answer!\n",
      ">0 f(0) = 88\n",
      ">12 f(12) = 87\n",
      ">28 f(28) = 86\n",
      ">51 f(51) = 85\n",
      ">143 f(143) = 84\n",
      ">214 f(214) = 83\n",
      ">1628 f(1628) = 82\n",
      "f(best) = 82\n",
      "not desired answer!\n",
      ">0 f(0) = 89\n",
      ">2 f(2) = 88\n",
      ">12 f(12) = 87\n",
      ">16 f(16) = 86\n",
      ">29 f(29) = 85\n",
      ">70 f(70) = 84\n",
      ">104 f(104) = 83\n",
      ">2312 f(2312) = 82\n",
      "f(best) = 82\n",
      "not desired answer!\n",
      ">1 f(1) = 87\n",
      ">3 f(3) = 86\n",
      ">32 f(32) = 85\n",
      ">50 f(50) = 84\n",
      ">265 f(265) = 83\n",
      "f(best) = 83\n",
      "not desired answer!\n",
      ">4 f(4) = 90\n",
      ">8 f(8) = 88\n",
      ">13 f(13) = 87\n",
      ">17 f(17) = 86\n",
      ">80 f(80) = 85\n",
      ">171 f(171) = 84\n",
      ">173 f(173) = 83\n",
      ">2342 f(2342) = 82\n",
      "f(best) = 82\n",
      "not desired answer!\n",
      ">0 f(0) = 89\n",
      ">1 f(1) = 86\n",
      ">3 f(3) = 85\n",
      ">49 f(49) = 84\n",
      ">286 f(286) = 83\n",
      "f(best) = 83\n",
      "not desired answer!\n",
      ">0 f(0) = 90\n",
      ">4 f(4) = 88\n",
      ">20 f(20) = 87\n",
      ">34 f(34) = 86\n",
      ">53 f(53) = 85\n",
      ">111 f(111) = 84\n",
      ">526 f(526) = 83\n",
      ">2014 f(2014) = 82\n",
      "f(best) = 82\n",
      "not desired answer!\n",
      ">3 f(3) = 87\n",
      ">12 f(12) = 86\n",
      ">36 f(36) = 85\n",
      ">385 f(385) = 84\n",
      ">536 f(536) = 83\n",
      "f(best) = 83\n",
      "not desired answer!\n",
      ">1 f(1) = 88\n",
      ">7 f(7) = 86\n",
      ">34 f(34) = 85\n",
      ">77 f(77) = 84\n",
      ">329 f(329) = 83\n",
      "f(best) = 83\n",
      "not desired answer!\n",
      ">6 f(6) = 87\n",
      ">28 f(28) = 86\n",
      ">62 f(62) = 85\n",
      ">215 f(215) = 84\n",
      ">622 f(622) = 83\n",
      "f(best) = 83\n",
      "not desired answer!\n",
      ">1 f(1) = 88\n",
      ">2 f(2) = 85\n",
      ">14 f(14) = 84\n",
      ">326 f(326) = 83\n",
      "f(best) = 83\n",
      "not desired answer!\n",
      ">1 f(1) = 87\n",
      ">4 f(4) = 86\n",
      ">23 f(23) = 85\n",
      ">40 f(40) = 84\n",
      ">51 f(51) = 83\n",
      ">680 f(680) = 82\n",
      "f(best) = 82\n",
      "not desired answer!\n",
      ">0 f(0) = 90\n",
      ">2 f(2) = 89\n",
      ">7 f(7) = 88\n",
      ">8 f(8) = 87\n",
      ">70 f(70) = 86\n",
      ">79 f(79) = 85\n",
      ">236 f(236) = 84\n",
      ">562 f(562) = 83\n",
      "f(best) = 83\n",
      "not desired answer!\n",
      ">0 f(0) = 89\n",
      ">2 f(2) = 88\n",
      ">4 f(4) = 87\n",
      ">5 f(5) = 86\n",
      ">6 f(6) = 85\n",
      ">181 f(181) = 84\n",
      ">344 f(344) = 83\n",
      ">390 f(390) = 82\n",
      "f(best) = 82\n",
      "not desired answer!\n",
      ">6 f(6) = 87\n",
      ">18 f(18) = 85\n",
      ">62 f(62) = 84\n",
      ">1070 f(1070) = 83\n",
      "f(best) = 83\n",
      "not desired answer!\n",
      ">0 f(0) = 89\n",
      ">4 f(4) = 88\n",
      ">7 f(7) = 87\n",
      ">33 f(33) = 85\n",
      ">41 f(41) = 84\n",
      ">78 f(78) = 83\n",
      "f(best) = 83\n",
      "not desired answer!\n"
     ]
    }
   ],
   "source": [
    "idx = 30\n",
    "while idx != 0:\n",
    "    best = np.random.permutation(reqLen)\n",
    "    best_eval = costFunction(best)\n",
    "    current, current_eval = best, best_eval\n",
    "    best, score, scores = simulated_annealing(n_iterations=3000, temp=350)\n",
    "    if score <= Goal:\n",
    "        print('f(best) = %d' % score)\n",
    "        print(\"desired answer!\")\n",
    "        break\n",
    "    else:\n",
    "        print('f(best) = %d' % score)\n",
    "        print(\"not desired answer!\")\n",
    "    idx -= 1"
   ],
   "metadata": {
    "collapsed": false,
    "pycharm": {
     "name": "#%%\n"
    }
   }
  },
  {
   "cell_type": "markdown",
   "source": [
    "    testcase #3"
   ],
   "metadata": {
    "collapsed": false
   }
  },
  {
   "cell_type": "code",
   "execution_count": 8,
   "outputs": [],
   "source": [
    "info = []\n",
    "with open(\"input3.stock\", \"r\") as filestream:\n",
    "    for line in filestream:\n",
    "        line = line.strip()\n",
    "        line = line.replace(\" \", \"\")\n",
    "        info.append(line.split(\",\"))\n",
    "\n",
    "StockLength = int(info[0][0])\n",
    "Goal = int(info[2][0])\n",
    "Requests = []\n",
    "\n",
    "for roll in info[1]:\n",
    "    Requests.append(int(roll))\n",
    "\n",
    "reqLen = len(Requests)"
   ],
   "metadata": {
    "collapsed": false,
    "pycharm": {
     "name": "#%%\n"
    }
   }
  },
  {
   "cell_type": "markdown",
   "source": [
    "run algorithm until we get our desired answer\n"
   ],
   "metadata": {
    "collapsed": false
   }
  },
  {
   "cell_type": "code",
   "execution_count": 9,
   "outputs": [
    {
     "name": "stdout",
     "output_type": "stream",
     "text": [
      ">0 f(0) = 113\n",
      ">4 f(4) = 111\n",
      ">22 f(22) = 110\n",
      ">32 f(32) = 108\n",
      ">36 f(36) = 107\n",
      ">41 f(41) = 106\n",
      ">136 f(136) = 105\n",
      "f(best) = 105\n",
      "desired answer!\n"
     ]
    }
   ],
   "source": [
    "while True:\n",
    "    best = np.random.permutation(reqLen)\n",
    "    best_eval = costFunction(best)\n",
    "    current, current_eval = best, best_eval\n",
    "    best, score, scores = simulated_annealing(n_iterations=1000, temp=300)\n",
    "    if score < Goal:\n",
    "        print('f(best) = %d' % score)\n",
    "        print(\"desired answer!\")\n",
    "        break\n",
    "    else:\n",
    "        print('f(best) = %d' % score)\n",
    "        print(\"not desired answer!\")\n",
    "\n",
    "\n",
    "\n"
   ],
   "metadata": {
    "collapsed": false,
    "pycharm": {
     "name": "#%%\n"
    }
   }
  }
 ],
 "metadata": {
  "kernelspec": {
   "display_name": "Python 3",
   "language": "python",
   "name": "python3"
  },
  "language_info": {
   "codemirror_mode": {
    "name": "ipython",
    "version": 2
   },
   "file_extension": ".py",
   "mimetype": "text/x-python",
   "name": "python",
   "nbconvert_exporter": "python",
   "pygments_lexer": "ipython2",
   "version": "2.7.6"
  }
 },
 "nbformat": 4,
 "nbformat_minor": 0
}